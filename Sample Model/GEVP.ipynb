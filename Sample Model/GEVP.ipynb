{
 "cells": [
  {
   "cell_type": "code",
   "execution_count": null,
   "id": "d46ff724",
   "metadata": {},
   "outputs": [],
   "source": [
    "import numpy as np\n",
    "from scipy.linalg import eig\n",
    "\n",
    "def get_matrix_from_user():\n",
    "    \n",
    "    size = int(input(\"Enter the size of the square matrix: \"))\n",
    "    \n",
    "    matrix = []\n",
    "    for i in range(size):\n",
    "        row_input = input(f\"Enter elements for row {i+1} (comma-separated): \")\n",
    "        row = [float(num) for num in row_input.split(',')]\n",
    "        matrix.append(row)\n",
    "\n",
    "    return np.array(matrix)\n",
    "def generalized_eigenproblem(matrix):\\\n",
    "     \n",
    "    B = np.eye(matrix.shape[0])\n",
    "\n",
    "    \n",
    "    eigenvalues, eigenvectors = eig(matrix, B)\n",
    "\n",
    "    return eigenvalues, eigenvectors\n",
    "if __name__ == \"__main__\":\n",
    "    \n",
    "    user_matrix = get_matrix_from_user()\n",
    "\n",
    "    \n",
    "    eigenvalues, eigenvectors = generalized_eigenproblem(user_matrix)\n",
    "\n",
    "    \n",
    "    print(\"\\nGeneralized Eigenvalues:\")\n",
    "    print(eigenvalues)\n",
    "\n",
    "    print(\"\\nGeneralized Eigenvectors:\")\n",
    "    print(eigenvectors)"
   ]
  },
  {
   "cell_type": "code",
   "execution_count": null,
   "id": "1adce395",
   "metadata": {},
   "outputs": [],
   "source": []
  }
 ],
 "metadata": {
  "kernelspec": {
   "display_name": "Python 3 (ipykernel)",
   "language": "python",
   "name": "python3"
  },
  "language_info": {
   "codemirror_mode": {
    "name": "ipython",
    "version": 3
   },
   "file_extension": ".py",
   "mimetype": "text/x-python",
   "name": "python",
   "nbconvert_exporter": "python",
   "pygments_lexer": "ipython3",
   "version": "3.9.7"
  }
 },
 "nbformat": 4,
 "nbformat_minor": 5
}
